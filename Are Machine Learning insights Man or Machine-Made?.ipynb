{
 "cells": [
  {
   "cell_type": "markdown",
   "metadata": {},
   "source": [
    "# Prepare Data."
   ]
  },
  {
   "cell_type": "code",
   "execution_count": 42,
   "metadata": {
    "collapsed": false
   },
   "outputs": [],
   "source": [
    "#Import libraries \n",
    "import numpy as np\n",
    "import pandas as pd\n",
    "import csv\n",
    "from sklearn import preprocessing\n",
    "from tpot import TPOTClassifier\n",
    "from sklearn.preprocessing import Imputer\n",
    "from sklearn.ensemble import AdaBoostClassifier, VotingClassifier\n",
    "from sklearn import svm\n",
    "import sklearn.neural_network\n",
    "import sklearn.ensemble\n",
    "from sklearn.model_selection import cross_val_score\n",
    "from sklearn.model_selection import train_test_split\n",
    "import matplotlib.pyplot as plt\n",
    "from fancyimpute import KNN\n",
    "from sklearn.manifold import TSNE\n",
    "from sklearn.decomposition import PCA, TruncatedSVD\n",
    "from sklearn.model_selection import GridSearchCV\n",
    "\n"
   ]
  },
  {
   "cell_type": "code",
   "execution_count": 2,
   "metadata": {
    "collapsed": true
   },
   "outputs": [],
   "source": [
    "#Import data for preprocessing\n",
    "training_data = pd.read_csv('Data/training.csv')\n",
    "extra_training_data = pd.read_csv('Data/additional_training.csv')\n",
    "annotator_confidence = pd.read_csv('Data/annotation_confidence.csv')\n",
    "testing_data = pd.read_csv('Data/testing.csv')\n",
    "proportions = pd.read_csv('Data/test_proportions.csv')\n"
   ]
  },
  {
   "cell_type": "code",
   "execution_count": 3,
   "metadata": {
    "collapsed": false
   },
   "outputs": [],
   "source": [
    "#Place the complete data in a numpy array\n",
    "training_array = np.array(training_data)\n",
    "#Split into input and output data\n",
    "output = training_array[:,-1]\n",
    "input_data = training_array[:,1: -1]"
   ]
  },
  {
   "cell_type": "markdown",
   "metadata": {},
   "source": [
    "Import the extra data"
   ]
  },
  {
   "cell_type": "code",
   "execution_count": 5,
   "metadata": {
    "collapsed": true
   },
   "outputs": [],
   "source": [
    "annotator_input = np.array(annotator_confidence)\n",
    "annotator_input = annotator_input[:,-1]"
   ]
  },
  {
   "cell_type": "code",
   "execution_count": 6,
   "metadata": {
    "collapsed": false
   },
   "outputs": [],
   "source": [
    "#Extra data with missing values\n",
    "extra_training_array = np.array(extra_training_data)\n",
    "\n",
    "#Split into input and output\n",
    "extra_output = extra_training_array[:,-1]\n",
    "extra_input_data = extra_training_array[:,1: -1]\n"
   ]
  },
  {
   "cell_type": "markdown",
   "metadata": {},
   "source": [
    "# Spot check algorithims to test performance:"
   ]
  },
  {
   "cell_type": "code",
   "execution_count": 7,
   "metadata": {
    "collapsed": true
   },
   "outputs": [],
   "source": [
    "# spot_forest = sklearn.ensemble.RandomForestClassifier(n_estimators = 100)\n",
    "# spot_mlp = sklearn.neural_network.MLPClassifier(solver='sgd',learning_rate_init=0.01,max_iter=5000)\n",
    "# spot_adaboost = AdaBoostClassifier(n_estimators=100)\n",
    "# spot_svm = sklearn.svm.SVC()\n",
    "# spot_kNN = sklearn.neighbors.KNeighborsClassifier()\n",
    "# spot_RBF = sklearn.gaussian_process.kernels.RBF()\n",
    "\n"
   ]
  },
  {
   "cell_type": "code",
   "execution_count": 8,
   "metadata": {
    "collapsed": false
   },
   "outputs": [],
   "source": [
    "# forest_CV = cross_val_score(spot_forest, input_data, output.ravel(), cv=10)\n",
    "# print 'Forest ------------'\n",
    "# print forest_CV\n",
    "# print forest_CV.mean()\n",
    "# print forest_CV.var()\n",
    "\n",
    "# mlp_CV = cross_val_score(spot_mlp, input_data, output.ravel(), cv=10)\n",
    "# print 'MLP ------------'\n",
    "# print mlp_CV\n",
    "# print mlp_CV.mean()\n",
    "# print mlp_CV.var()\n",
    "\n",
    "# adaboost_CV = cross_val_score(spot_adaboost, input_data, output.ravel(), cv=10)\n",
    "# print 'Adaboost ------------'\n",
    "# print adaboost_CV\n",
    "# print adaboost_CV.mean()\n",
    "# print adaboost_CV.var()\n",
    "\n",
    "# SVM_CV = cross_val_score(spot_svm, input_data, output.ravel(), cv=10)\n",
    "# print 'SVM ------------'\n",
    "# print SVM_CV\n",
    "# print SVM_CV.mean()\n",
    "# print SVM_CV.var()\n",
    "\n",
    "# kNN_CV = cross_val_score(spot_kNN, input_data, output.ravel(), cv=10)\n",
    "# print 'kNN ------------'\n",
    "# print kNN_CV\n",
    "# print kNN_CV.mean()\n",
    "# print kNN_CV.var()\n",
    "\n"
   ]
  },
  {
   "cell_type": "markdown",
   "metadata": {},
   "source": [
    "Combine all data together"
   ]
  },
  {
   "cell_type": "code",
   "execution_count": 10,
   "metadata": {
    "collapsed": false
   },
   "outputs": [
    {
     "name": "stdout",
     "output_type": "stream",
     "text": [
      "(3420, 4608)\n",
      "(380, 4608)\n",
      "(3800, 4608)\n",
      "(3800,)\n"
     ]
    }
   ],
   "source": [
    "print extra_input_data.shape\n",
    "print input_data.shape\n",
    "input_data = np.concatenate((input_data, extra_input_data), axis=0)\n",
    "output = np.concatenate((output, extra_output), axis=0)\n",
    "\n",
    "print input_data.shape\n",
    "print output.shape\n",
    "#print output"
   ]
  },
  {
   "cell_type": "markdown",
   "metadata": {},
   "source": [
    "Now the missing values must be dealt with in the extra training data. This will be done simply at first using averages to fill the values. \n",
    "\n"
   ]
  },
  {
   "cell_type": "code",
   "execution_count": 11,
   "metadata": {
    "collapsed": false
   },
   "outputs": [],
   "source": [
    "#Impute using the most frequent strategy\n",
    "imp = Imputer(missing_values='NaN', strategy='most_frequent', axis=0, verbose=0, copy=True)\n",
    "imp = imp.fit(input_data)\n",
    "input_data = imp.transform(input_data)"
   ]
  },
  {
   "cell_type": "code",
   "execution_count": 12,
   "metadata": {
    "collapsed": true
   },
   "outputs": [],
   "source": [
    "#Imput using K nearest neighbours to fill values\n",
    "#extra_train_imp = X_filled_knn = KNN(k=3).complete(extra_input_data)\n",
    "#np.savetxt('imputedKNN.csv', extra_train_imp, fmt='%.2f', delimiter=',', comments='')"
   ]
  },
  {
   "cell_type": "markdown",
   "metadata": {},
   "source": [
    "Remove ID column from testing data"
   ]
  },
  {
   "cell_type": "code",
   "execution_count": 13,
   "metadata": {
    "collapsed": true
   },
   "outputs": [],
   "source": [
    "testing_array = np.array(testing_data)\n",
    "testing_array = testing_array[:,1:]"
   ]
  },
  {
   "cell_type": "markdown",
   "metadata": {},
   "source": [
    "Scale the data with 0 mean and unit variance "
   ]
  },
  {
   "cell_type": "code",
   "execution_count": 14,
   "metadata": {
    "collapsed": false
   },
   "outputs": [],
   "source": [
    "scaler = preprocessing.StandardScaler().fit(input_data)\n",
    "input_data = scaler.transform(input_data)                               \n",
    "testing_array = scaler.transform(testing_array)"
   ]
  },
  {
   "cell_type": "markdown",
   "metadata": {
    "collapsed": false
   },
   "source": [
    "Seperate GIST and CNN data"
   ]
  },
  {
   "cell_type": "code",
   "execution_count": 30,
   "metadata": {
    "collapsed": false
   },
   "outputs": [
    {
     "name": "stdout",
     "output_type": "stream",
     "text": [
      "(1922, 4096)\n",
      "(1922, 0)\n",
      "(4200, 4096)\n"
     ]
    }
   ],
   "source": [
    "CNN_input = input_data[:,0:4096]\n",
    "GIST_input = input_data[:,4096:]\n",
    "CNN_testing = testing_array[:,0:4096]\n",
    "print CNN_input.shape\n",
    "print GIST_input.shape\n",
    "print CNN_testing.shape"
   ]
  },
  {
   "cell_type": "markdown",
   "metadata": {},
   "source": [
    "# Train CNN and GIST to fit on SVM and RF and evaluate performance "
   ]
  },
  {
   "cell_type": "code",
   "execution_count": 16,
   "metadata": {
    "collapsed": false
   },
   "outputs": [
    {
     "name": "stdout",
     "output_type": "stream",
     "text": [
      "Forest CNN ------------\n",
      "[ 0.76052632  0.78157895  0.76842105  0.725       0.73947368]\n",
      "0.755\n",
      "Forest GIST------------\n",
      "[ 0.64868421  0.66315789  0.63552632  0.63684211  0.64342105]\n",
      "0.645526315789\n",
      "SVM CNN ------------\n",
      "[ 0.76710526  0.76973684  0.76315789  0.725       0.73552632]\n",
      "0.752105263158\n",
      "SVM GIST ------------\n",
      "[ 0.70263158  0.69473684  0.68157895  0.62894737  0.63947368]\n",
      "0.669473684211\n"
     ]
    }
   ],
   "source": [
    "svm = sklearn.svm.SVC()\n",
    "forest = sklearn.ensemble.RandomForestClassifier(n_estimators = 100)\n",
    "\n",
    "forest_CV = cross_val_score(forest, CNN_input, output.ravel(), cv=5)\n",
    "print 'Forest CNN ------------'\n",
    "print forest_CV\n",
    "print forest_CV.mean()\n",
    "\n",
    "\n",
    "forest_CV = cross_val_score(forest, GIST_input, output.ravel(), cv=5)\n",
    "print 'Forest GIST------------'\n",
    "print forest_CV\n",
    "print forest_CV.mean()\n",
    "\n",
    "\n",
    "SVM_CV = cross_val_score(svm, CNN_input, output.ravel(), cv=5)\n",
    "print 'SVM CNN ------------'\n",
    "print SVM_CV\n",
    "print SVM_CV.mean()\n",
    "\n",
    "SVM_CV = cross_val_score(svm, GIST_input, output.ravel(), cv=5)\n",
    "print 'SVM GIST ------------'\n",
    "print SVM_CV\n",
    "print SVM_CV.mean()\n"
   ]
  },
  {
   "cell_type": "markdown",
   "metadata": {
    "collapsed": false
   },
   "source": [
    "# Annotator confidence data: Removing that which the human annotators are not confident on."
   ]
  },
  {
   "cell_type": "code",
   "execution_count": 17,
   "metadata": {
    "collapsed": false
   },
   "outputs": [
    {
     "name": "stdout",
     "output_type": "stream",
     "text": [
      "1922\n",
      "1878\n"
     ]
    }
   ],
   "source": [
    "annotator_input\n",
    "unsure_input_data = np.zeros((1878,4096))\n",
    "unsure_output = np.zeros((1878,1))\n",
    "\n",
    "confident_input_data = np.zeros((1922,4096))\n",
    "confident_output = np.zeros((1922,1))\n",
    "counter = 0\n",
    "counter_false = 0\n",
    "\n",
    "for x in range(0,len(annotator_input)):\n",
    "    if annotator_input[x] == 1:\n",
    "        confident_input_data[counter] = CNN_input[x]\n",
    "        confident_output[counter] = output[x]\n",
    "        counter += 1\n",
    "    else:\n",
    "        unsure_input_data[counter_false]= CNN_input[x]\n",
    "        unsure_output[counter_false] = output[x]\n",
    "        counter_false += 1\n",
    "\n",
    "        \n",
    "        \n",
    "print counter\n",
    "print counter_false\n"
   ]
  },
  {
   "cell_type": "code",
   "execution_count": 18,
   "metadata": {
    "collapsed": false
   },
   "outputs": [],
   "source": [
    "#Take data which is unanimious by annotators \n",
    "\n",
    "original_input = input_data\n",
    "original_output = output\n",
    "\n",
    "input_data = confident_input_data\n",
    "output = confident_output\n",
    "\n",
    "# print output"
   ]
  },
  {
   "cell_type": "code",
   "execution_count": 19,
   "metadata": {
    "collapsed": true
   },
   "outputs": [],
   "source": [
    "#Split confident data into training and testing portions\n",
    "X_train, X_test, y_train, y_test = train_test_split(input_data, output, train_size=0.80, test_size=0.20)"
   ]
  },
  {
   "cell_type": "code",
   "execution_count": 20,
   "metadata": {
    "collapsed": false
   },
   "outputs": [
    {
     "name": "stdout",
     "output_type": "stream",
     "text": [
      "(1922, 4096)\n",
      "(1922, 1)\n"
     ]
    }
   ],
   "source": [
    "#Test shape \n",
    "print input_data.shape\n",
    "print output.shape"
   ]
  },
  {
   "cell_type": "markdown",
   "metadata": {},
   "source": [
    "train random forest and SVM on condifently annotated data"
   ]
  },
  {
   "cell_type": "code",
   "execution_count": 21,
   "metadata": {
    "collapsed": false
   },
   "outputs": [
    {
     "name": "stdout",
     "output_type": "stream",
     "text": [
      "Forest-------\n",
      "[ 0.88961039  0.86363636  0.8474026   0.88925081  0.88888889]\n",
      "0.875757810774\n",
      "SV----------\n",
      "[ 0.88636364  0.86688312  0.86688312  0.89576547  0.87581699]\n",
      "0.878342467181\n"
     ]
    }
   ],
   "source": [
    "svm = sklearn.svm.SVC()\n",
    "forest = sklearn.ensemble.RandomForestClassifier(n_estimators = 100)\n",
    "\n",
    "forest_CV = cross_val_score(forest, X_train, y_train.ravel(), cv=5)\n",
    "print 'Forest-------'\n",
    "print forest_CV\n",
    "print forest_CV.mean()\n",
    "\n",
    "SVM_CV= cross_val_score(svm, X_train, y_train.ravel(), cv=5)\n",
    "print 'SV----------'\n",
    "print SVM_CV\n",
    "print SVM_CV.mean()\n"
   ]
  },
  {
   "cell_type": "code",
   "execution_count": 22,
   "metadata": {
    "collapsed": false
   },
   "outputs": [
    {
     "name": "stdout",
     "output_type": "stream",
     "text": [
      "0.890909090909\n",
      "0.875324675325\n",
      "0.622470713525\n",
      "0.625133120341\n"
     ]
    }
   ],
   "source": [
    "#Test newly trained calssifiers on unseen data\n",
    "forest = forest.fit(X_train, y_train.ravel())\n",
    "svm = svm.fit(X_train, y_train.ravel())\n",
    "\n",
    "print forest.score(X_test, y_test.ravel())\n",
    "print svm.score(X_test, y_test.ravel())\n",
    "print forest.score(unsure_input_data, unsure_output.ravel())\n",
    "print svm.score(unsure_input_data, unsure_output.ravel())"
   ]
  },
  {
   "cell_type": "code",
   "execution_count": 23,
   "metadata": {
    "collapsed": false
   },
   "outputs": [
    {
     "name": "stdout",
     "output_type": "stream",
     "text": [
      "0.890909090909\n",
      "0.875324675325\n"
     ]
    }
   ],
   "source": [
    "print forest.score(X_test, y_test.ravel())\n",
    "print svm.score(X_test, y_test.ravel())"
   ]
  },
  {
   "cell_type": "markdown",
   "metadata": {},
   "source": [
    "# Perform Recursive feature extraction"
   ]
  },
  {
   "cell_type": "code",
   "execution_count": 24,
   "metadata": {
    "collapsed": false
   },
   "outputs": [
    {
     "name": "stdout",
     "output_type": "stream",
     "text": [
      "Optimal number of features : 1846\n"
     ]
    },
    {
     "data": {
      "image/png": "[encoded data removed]",
      "text/plain": [
       "<matplotlib.figure.Figure at 0x10ca17690>"
      ]
     },
     "metadata": {},
     "output_type": "display_data"
    }
   ],
   "source": [
    "import matplotlib.pyplot as plt\n",
    "from sklearn.svm import SVC\n",
    "from sklearn.model_selection import StratifiedKFold\n",
    "from sklearn.feature_selection import RFECV\n",
    "\n",
    "\n",
    "# Create the RFE object and compute a cross-validated score.\n",
    "svc = SVC(kernel=\"linear\")\n",
    "# The \"accuracy\" scoring is proportional to the number of correct\n",
    "# classifications\n",
    "rfecv = RFECV(estimator=svc, step=150, cv=StratifiedKFold(2),\n",
    "              scoring='accuracy')\n",
    "rfecv.fit(input_data, output.ravel())\n",
    "\n",
    "print(\"Optimal number of features : %d\" % rfecv.n_features_)\n",
    "\n",
    "# Plot number of features VS. cross-validation scores\n",
    "plt.figure()\n",
    "plt.xlabel(\"Number of features selected\")\n",
    "plt.ylabel(\"Cross validation score (nb of correct classifications)\")\n",
    "plt.plot(range(1, len(rfecv.grid_scores_) + 1), rfecv.grid_scores_)\n",
    "plt.show()"
   ]
  },
  {
   "cell_type": "code",
   "execution_count": 25,
   "metadata": {
    "collapsed": false
   },
   "outputs": [
    {
     "name": "stdout",
     "output_type": "stream",
     "text": [
      "[False  True False ..., False False False]\n",
      "[1873    1  140 ..., 1019  805 1473]\n"
     ]
    }
   ],
   "source": [
    "from sklearn.svm import LinearSVC\n",
    "from sklearn.feature_selection import RFE\n",
    "svm = LinearSVC()\n",
    "# create the RFE model for the svm classifier \n",
    "# and select attributes\n",
    "rfe = RFE(svm, 1846)\n",
    "rfe = rfe.fit(input_data, output.ravel())\n",
    "# print summaries for the selection of attributes\n",
    "print(rfe.support_)\n",
    "print(rfe.ranking_)"
   ]
  },
  {
   "cell_type": "markdown",
   "metadata": {},
   "source": [
    "Transform training and testing data to the new feature space"
   ]
  },
  {
   "cell_type": "code",
   "execution_count": 41,
   "metadata": {
    "collapsed": false
   },
   "outputs": [
    {
     "name": "stdout",
     "output_type": "stream",
     "text": [
      "(1922, 1846)\n",
      "(4200, 1846)\n"
     ]
    }
   ],
   "source": [
    "final_training_input = rfe.transform(input_data)\n",
    "final_testing_input = rfe.transform(CNN_testing)\n",
    "print final_training_input.shape\n",
    "print final_testing_input.shape"
   ]
  },
  {
   "cell_type": "markdown",
   "metadata": {},
   "source": [
    "# Parameter Optimisation of Random Forest Using Exhaustive GridSearch"
   ]
  },
  {
   "cell_type": "code",
   "execution_count": 44,
   "metadata": {
    "collapsed": true
   },
   "outputs": [],
   "source": [
    "forest = sklearn.ensemble.RandomForestClassifier()"
   ]
  },
  {
   "cell_type": "code",
   "execution_count": 43,
   "metadata": {
    "collapsed": false
   },
   "outputs": [
    {
     "name": "stdout",
     "output_type": "stream",
     "text": [
      "{'n_estimators': [10, 50, 100, 150], 'min_samples_leaf': [1, 10, 25, 50]}\n"
     ]
    }
   ],
   "source": [
    "#Define list of values that should be explored \n",
    "#Will be optimizing for number of trees and leaves in the forest \n",
    "\n",
    "tree_range = [10,,20,30,40,50,100,150]\n",
    "leaf_range = [1,10,25,50]\n",
    "\n",
    "param_grid = dict(n_estimators = tree_range,  min_samples_leaf = leaf_range)\n",
    "print(param_grid)\n"
   ]
  },
  {
   "cell_type": "code",
   "execution_count": 46,
   "metadata": {
    "collapsed": false
   },
   "outputs": [
    {
     "name": "stdout",
     "output_type": "stream",
     "text": [
      "(1922, 1846)\n",
      "(1922, 1)\n"
     ]
    }
   ],
   "source": [
    "print final_training_input.shape\n",
    "print output.shape"
   ]
  },
  {
   "cell_type": "code",
   "execution_count": 50,
   "metadata": {
    "collapsed": false
   },
   "outputs": [
    {
     "data": {
      "text/plain": [
       "GridSearchCV(cv=5, error_score='raise',\n",
       "       estimator=RandomForestClassifier(bootstrap=True, class_weight=None, criterion='gini',\n",
       "            max_depth=None, max_features='auto', max_leaf_nodes=None,\n",
       "            min_impurity_split=1e-07, min_samples_leaf=1,\n",
       "            min_samples_split=2, min_weight_fraction_leaf=0.0,\n",
       "            n_estimators=10, n_jobs=1, oob_score=False, random_state=None,\n",
       "            verbose=0, warm_start=False),\n",
       "       fit_params={}, iid=True, n_jobs=1,\n",
       "       param_grid={'n_estimators': [10, 50, 100, 150], 'min_samples_leaf': [1, 10, 25, 50]},\n",
       "       pre_dispatch='2*n_jobs', refit=True, return_train_score=True,\n",
       "       scoring='accuracy', verbose=0)"
      ]
     },
     "execution_count": 50,
     "metadata": {},
     "output_type": "execute_result"
    }
   ],
   "source": [
    "grid = GridSearchCV(forest,param_grid,cv=5,scoring='accuracy')\n",
    "grid.fit(final_training_input, output.ravel())"
   ]
  },
  {
   "cell_type": "code",
   "execution_count": 53,
   "metadata": {
    "collapsed": false
   },
   "outputs": [
    {
     "name": "stdout",
     "output_type": "stream",
     "text": [
      "0.884495317378\n",
      "{'n_estimators': 150, 'min_samples_leaf': 1}\n"
     ]
    }
   ],
   "source": [
    "print(grid.best_score_)\n",
    "print(grid.best_params_)"
   ]
  },
  {
   "cell_type": "code",
   "execution_count": 54,
   "metadata": {
    "collapsed": false
   },
   "outputs": [
    {
     "name": "stdout",
     "output_type": "stream",
     "text": [
      "{'n_estimators': [100, 150, 200, 250]}\n"
     ]
    }
   ],
   "source": [
    "forest = sklearn.ensemble.RandomForestClassifier(min_samples_leaf = 1)\n",
    "tree_range = [100,150,200,250]\n",
    "param_grid = dict(n_estimators = tree_range)\n",
    "print param_grid"
   ]
  },
  {
   "cell_type": "code",
   "execution_count": 55,
   "metadata": {
    "collapsed": false
   },
   "outputs": [
    {
     "data": {
      "text/plain": [
       "GridSearchCV(cv=5, error_score='raise',\n",
       "       estimator=RandomForestClassifier(bootstrap=True, class_weight=None, criterion='gini',\n",
       "            max_depth=None, max_features='auto', max_leaf_nodes=None,\n",
       "            min_impurity_split=1e-07, min_samples_leaf=1,\n",
       "            min_samples_split=2, min_weight_fraction_leaf=0.0,\n",
       "            n_estimators=10, n_jobs=1, oob_score=False, random_state=None,\n",
       "            verbose=0, warm_start=False),\n",
       "       fit_params={}, iid=True, n_jobs=1,\n",
       "       param_grid={'n_estimators': [100, 150, 200, 250]},\n",
       "       pre_dispatch='2*n_jobs', refit=True, return_train_score=True,\n",
       "       scoring='accuracy', verbose=0)"
      ]
     },
     "execution_count": 55,
     "metadata": {},
     "output_type": "execute_result"
    }
   ],
   "source": [
    "grid = GridSearchCV(forest,param_grid,cv=5,scoring='accuracy')\n",
    "grid.fit(final_training_input, output.ravel())"
   ]
  },
  {
   "cell_type": "code",
   "execution_count": 56,
   "metadata": {
    "collapsed": false
   },
   "outputs": [
    {
     "name": "stderr",
     "output_type": "stream",
     "text": [
      "/Users/Tim/anaconda/lib/python2.7/site-packages/sklearn/model_selection/_search.py:667: DeprecationWarning: The grid_scores_ attribute was deprecated in version 0.18 in favor of the more elaborate cv_results_ attribute. The grid_scores_ attribute will not be available from 0.20\n",
      "  DeprecationWarning)\n"
     ]
    },
    {
     "data": {
      "text/plain": [
       "[mean: 0.87877, std: 0.00600, params: {'n_estimators': 100},\n",
       " mean: 0.88033, std: 0.01698, params: {'n_estimators': 150},\n",
       " mean: 0.87929, std: 0.01663, params: {'n_estimators': 200},\n",
       " mean: 0.87721, std: 0.01249, params: {'n_estimators': 250}]"
      ]
     },
     "execution_count": 56,
     "metadata": {},
     "output_type": "execute_result"
    }
   ],
   "source": [
    "grid.grid_scores_"
   ]
  },
  {
   "cell_type": "markdown",
   "metadata": {},
   "source": [
    "# Final Classifier"
   ]
  },
  {
   "cell_type": "code",
   "execution_count": 59,
   "metadata": {
    "collapsed": false
   },
   "outputs": [
    {
     "data": {
      "text/plain": [
       "RandomForestClassifier(bootstrap=True, class_weight=None, criterion='gini',\n",
       "            max_depth=None, max_features='auto', max_leaf_nodes=None,\n",
       "            min_impurity_split=1e-07, min_samples_leaf=1,\n",
       "            min_samples_split=2, min_weight_fraction_leaf=0.0,\n",
       "            n_estimators=150, n_jobs=1, oob_score=False, random_state=None,\n",
       "            verbose=0, warm_start=False)"
      ]
     },
     "execution_count": 59,
     "metadata": {},
     "output_type": "execute_result"
    }
   ],
   "source": [
    "forest = sklearn.ensemble.RandomForestClassifier(min_samples_leaf = 1,n_estimators = 150)\n",
    "forest.fit(final_training_input,output.ravel())"
   ]
  },
  {
   "cell_type": "code",
   "execution_count": 60,
   "metadata": {
    "collapsed": true
   },
   "outputs": [],
   "source": [
    "predicted = forest.predict(final_testing_input)\n",
    "predicted_prob = forest.predict_proba(final_testing_input)"
   ]
  },
  {
   "cell_type": "markdown",
   "metadata": {},
   "source": [
    "# Adjust predictions to output labels"
   ]
  },
  {
   "cell_type": "code",
   "execution_count": 159,
   "metadata": {
    "collapsed": false
   },
   "outputs": [],
   "source": [
    "predicted_prob = np.array(predicted_prob)\n",
    "predicted_class = np.array(predicted_class)"
   ]
  },
  {
   "cell_type": "code",
   "execution_count": 160,
   "metadata": {
    "collapsed": false
   },
   "outputs": [],
   "source": [
    "#Calculate level of confidence in prediction\n",
    "confidence = np.amax(predicted_prob, axis=1) \n",
    "#Caluclate proportion of values in prediction\n",
    "ratio = np.sum(predicted_class)/len(predicted_class)"
   ]
  },
  {
   "cell_type": "code",
   "execution_count": 161,
   "metadata": {
    "collapsed": false
   },
   "outputs": [],
   "source": [
    "print confidence\n",
    "print ratio\n",
    "i = 0\n",
    "print type(i)\n",
    "print predicted_class[0]"
   ]
  },
  {
   "cell_type": "code",
   "execution_count": 162,
   "metadata": {
    "collapsed": false
   },
   "outputs": [],
   "source": [
    "#Proportions given to us\n",
    "class1_prop = 0.4286\n",
    "class2_prop = 0.5714\n",
    "\n",
    "#order confidence with least confident first\n",
    "index_array = np.argsort(confidence)\n",
    "#print confidence\n",
    "#print index_array\n",
    "\n",
    "confidence,index_array = (list(t) for t in zip(*sorted(zip(confidence,index_array))))\n",
    "#print confidence\n",
    "#print index_array\n",
    "#list1, list2 = (list(t) for t in zip(*sorted(zip(list1, list2))))\n",
    "#Our ratio should be below class1 prop\n",
    "\n",
    "i = 0\n",
    "while ratio > class1_prop:\n",
    "    predicted_class[index_array[i]] = 0\n",
    "    i = i+1\n",
    "    ratio = np.sum(predicted_class)/len(predicted_class)\n",
    "    print ratio\n",
    "    \n",
    "     \n",
    "print ratio\n",
    "#Calculate the proportions of the current predictions\n"
   ]
  },
  {
   "cell_type": "code",
   "execution_count": 163,
   "metadata": {
    "collapsed": false
   },
   "outputs": [],
   "source": [
    "print predicted_class\n",
    "predicted = predicted_class"
   ]
  },
  {
   "cell_type": "markdown",
   "metadata": {},
   "source": [
    "# Save output to submit online"
   ]
  },
  {
   "cell_type": "code",
   "execution_count": 61,
   "metadata": {
    "collapsed": false
   },
   "outputs": [],
   "source": [
    "submit_online = np.arange(1, len(predicted) + 1)\n",
    "submit_online = np.vstack((submit_online,predicted))\n",
    "submit_online = submit_online.T\n",
    "np.savetxt('output.csv', submit_online, fmt='%.2f', delimiter=',', header=\"ID,prediction\", comments='')"
   ]
  },
  {
   "cell_type": "markdown",
   "metadata": {},
   "source": [
    "# OPTIONAL: Automate machine learing pipeline using TPOT. "
   ]
  },
  {
   "cell_type": "code",
   "execution_count": 26,
   "metadata": {
    "collapsed": false,
    "scrolled": true
   },
   "outputs": [
    {
     "name": "stdout",
     "output_type": "stream",
     "text": [
      "Warning: xgboost.XGBClassifier is not available and will not be used by TPOT.\n"
     ]
    },
    {
     "name": "stderr",
     "output_type": "stream",
     "text": [
      "Optimization Progress:  18%|█▊        | 40/220 [51:17<4:00:20, 80.11s/pipeline]"
     ]
    },
    {
     "name": "stdout",
     "output_type": "stream",
     "text": [
      "Generation 1 - Current best internal CV score: 0.876409276572\n"
     ]
    },
    {
     "name": "stderr",
     "output_type": "stream",
     "text": [
      "Optimization Progress:  27%|██▋       | 60/220 [57:13<1:38:22, 36.89s/pipeline]"
     ]
    },
    {
     "name": "stdout",
     "output_type": "stream",
     "text": [
      "Generation 2 - Current best internal CV score: 0.880299021198\n"
     ]
    },
    {
     "name": "stderr",
     "output_type": "stream",
     "text": [
      "Optimization Progress:  36%|███▋      | 80/220 [1:08:41<1:20:05, 34.33s/pipeline]"
     ]
    },
    {
     "name": "stdout",
     "output_type": "stream",
     "text": [
      "Generation 3 - Current best internal CV score: 0.880299021198\n"
     ]
    },
    {
     "name": "stderr",
     "output_type": "stream",
     "text": [
      "Optimization Progress:  45%|████▌     | 100/220 [1:18:16<58:32, 29.27s/pipeline]"
     ]
    },
    {
     "name": "stdout",
     "output_type": "stream",
     "text": [
      "Generation 4 - Current best internal CV score: 0.880299021198\n"
     ]
    },
    {
     "name": "stderr",
     "output_type": "stream",
     "text": [
      "Optimization Progress:  55%|█████▍    | 120/220 [1:34:48<1:12:50, 43.71s/pipeline]"
     ]
    },
    {
     "name": "stdout",
     "output_type": "stream",
     "text": [
      "Generation 5 - Current best internal CV score: 0.882911202187\n"
     ]
    },
    {
     "name": "stderr",
     "output_type": "stream",
     "text": [
      "Optimization Progress:  64%|██████▎   | 140/220 [1:49:11<1:04:10, 48.13s/pipeline]"
     ]
    },
    {
     "name": "stdout",
     "output_type": "stream",
     "text": [
      "Generation 6 - Current best internal CV score: 0.882911202187\n"
     ]
    },
    {
     "name": "stderr",
     "output_type": "stream",
     "text": [
      "Optimization Progress:  73%|███████▎  | 160/220 [2:07:45<1:04:52, 64.87s/pipeline]"
     ]
    },
    {
     "name": "stdout",
     "output_type": "stream",
     "text": [
      "Generation 7 - Current best internal CV score: 0.882911202187\n"
     ]
    },
    {
     "name": "stderr",
     "output_type": "stream",
     "text": [
      "Optimization Progress:  82%|████████▏ | 180/220 [2:29:17<47:50, 71.77s/pipeline]"
     ]
    },
    {
     "name": "stdout",
     "output_type": "stream",
     "text": [
      "Generation 8 - Current best internal CV score: 0.882911202187\n"
     ]
    },
    {
     "name": "stderr",
     "output_type": "stream",
     "text": [
      "Optimization Progress:  91%|█████████ | 200/220 [2:33:10<05:38, 16.91s/pipeline]"
     ]
    },
    {
     "name": "stdout",
     "output_type": "stream",
     "text": [
      "Generation 9 - Current best internal CV score: 0.882911202187\n"
     ]
    },
    {
     "name": "stderr",
     "output_type": "stream",
     "text": [
      "                                                                                "
     ]
    },
    {
     "name": "stdout",
     "output_type": "stream",
     "text": [
      "Generation 10 - Current best internal CV score: 0.883550004742\n",
      "\n",
      "Best pipeline: LinearSVC(input_matrix, LinearSVC__C=0.0001, LinearSVC__dual=DEFAULT, LinearSVC__loss=hinge, LinearSVC__penalty=l2, LinearSVC__tol=0.01)\n"
     ]
    },
    {
     "name": "stderr",
     "output_type": "stream",
     "text": [
      "\r"
     ]
    }
   ],
   "source": [
    "#WARNING: Computationally intensive\n",
    "tpot = TPOTClassifier(generations= 10, population_size=20, verbosity=2)\n",
    "tpot.fit(X_train, y_train.ravel())\n"
   ]
  },
  {
   "cell_type": "code",
   "execution_count": 31,
   "metadata": {
    "collapsed": false
   },
   "outputs": [],
   "source": [
    "tpot_prediction = tpot.predict(CNN_testing)"
   ]
  },
  {
   "cell_type": "code",
   "execution_count": 32,
   "metadata": {
    "collapsed": false
   },
   "outputs": [],
   "source": [
    "predicted = tpot_prediction"
   ]
  },
  {
   "cell_type": "code",
   "execution_count": 27,
   "metadata": {
    "collapsed": false
   },
   "outputs": [
    {
     "name": "stdout",
     "output_type": "stream",
     "text": [
      "0.885714285714\n"
     ]
    }
   ],
   "source": [
    "print tpot.score(X_test, y_test.ravel())\n",
    "tpot.export('img_classifier_pipeline.py')"
   ]
  },
  {
   "cell_type": "code",
   "execution_count": null,
   "metadata": {
    "collapsed": true
   },
   "outputs": [],
   "source": []
  }
 ],
 "metadata": {
  "anaconda-cloud": {},
  "kernelspec": {
   "display_name": "Python [default]",
   "language": "python",
   "name": "python2"
  },
  "language_info": {
   "codemirror_mode": {
    "name": "ipython",
    "version": 2
   },
   "file_extension": ".py",
   "mimetype": "text/x-python",
   "name": "python",
   "nbconvert_exporter": "python",
   "pygments_lexer": "ipython2",
   "version": "2.7.9"
  }
 },
 "nbformat": 4,
 "nbformat_minor": 1
}
